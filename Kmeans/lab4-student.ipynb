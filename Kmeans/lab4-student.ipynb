{
 "cells": [
  {
   "cell_type": "markdown",
   "metadata": {},
   "source": [
    "<h1 style=\"text-align:center\">Advanced Statistical Inference</h1>\n",
    "<h1 style=\"text-align:center\">Clustering</h1>"
   ]
  },
  {
   "cell_type": "markdown",
   "metadata": {},
   "source": [
    "## 1. Aims\n",
    "<div class=\"alert alert-info\"> \n",
    "To implement $k$-means and use it to cluster some data.\n",
    "</div>"
   ]
  },
  {
   "cell_type": "code",
   "execution_count": 1,
   "metadata": {},
   "outputs": [],
   "source": [
    "import scipy.io\n",
    "import numpy as np\n",
    "mat = scipy.io.loadmat('kmeansdata.mat')"
   ]
  },
  {
   "cell_type": "code",
   "execution_count": 2,
   "metadata": {},
   "outputs": [
    {
     "name": "stdout",
     "output_type": "stream",
     "text": [
      "(100, 2)\n"
     ]
    }
   ],
   "source": [
    "X = mat['X']\n",
    "print(X.shape)"
   ]
  },
  {
   "cell_type": "markdown",
   "metadata": {},
   "source": [
    "## 2. Implement the $k$-means algorithm covered in the lecture (not the kernelised version)\n",
    "\n",
    "<div class=\"alert alert-info\">\n",
    "\n",
    "Hints:\n",
    "<br>\n",
    "<ul> \n",
    "<li> Your code needs to alternate between assigning points to the cluster that they’re closest to and recalculating the means by taking the average of these points.\n",
    "<li> You may need to add something to your code to deal with the problem of no points being assigned to a particular cluster – set the mean randomly.\n",
    "<li> You’ll find it easiest to maintain a variable that indicates which cluster each point is assigned to. Be careful not to assign a point to more than one cluster.\n",
    "<li> Your algorithm should converge in fewer than 20 steps (or thereabouts). If it takes 100, something isn’t right!\n",
    "</ul>\n",
    "\n",
    "</div>"
   ]
  },
  {
   "cell_type": "code",
   "execution_count": 70,
   "metadata": {},
   "outputs": [],
   "source": [
    "from numpy.linalg import norm\n",
    "import matplotlib.pyplot as plt\n",
    "import matplotlib.cm as cm\n",
    "import matplotlib\n",
    "import itertools\n",
    "import random\n",
    "\n",
    "class Kmeans:\n",
    "    \n",
    "    def __init__(self):\n",
    "        pass\n",
    "    \n",
    "    import random\n",
    " \n",
    "    def generate_colors(self,n):\n",
    "        ret = []\n",
    "        r = int(random.random() * 256)\n",
    "        g = int(random.random() * 256)\n",
    "        b = int(random.random() * 256)\n",
    "        step = 256 / n\n",
    "        for i in range(n):\n",
    "            r += step\n",
    "            g += step\n",
    "            b += step\n",
    "            r = int(r) % 256\n",
    "            g = int(g) % 256\n",
    "            b = int(b) % 256\n",
    "            ret.append([r,g,b]) \n",
    "        return np.array(ret)\n",
    "    \n",
    "    \n",
    "    def initialize_centroids(self,k,d):\n",
    "        self.means=np.random.rand(k,d)\n",
    "        \n",
    "    def assign_closest(self):\n",
    "        self.assignments=np.zeros((self.data.shape[0],))\n",
    "        self.distances=np.zeros((self.data.shape[0],self.means.shape[0]))\n",
    "        for i in range(self.means.shape[0]):\n",
    "            dist=np.linalg.norm(self.means[i] - self.data,axis=1)\n",
    "            self.distances[:,i]=dist\n",
    "        indexes=np.array([np.argmin(t) for t in self.distances])    \n",
    "        self.assignments=indexes\n",
    "        \n",
    "    def update_means(self):\n",
    "        self.previous_means=self.means\n",
    "        for i in range(self.means.shape[0]):\n",
    "            if(len(self.assignments[self.assignments==i])==0):\n",
    "                continue\n",
    "            self.means[i]=np.sum(self.data[np.where(self.assignments==i)],axis=0)/len(self.assignments[self.assignments==i])\n",
    "        #self.means=np.sum(self.data[np.where(self.assignments==k)],axis=0)/len(self.assignments[self.assignments==k])\n",
    "    def nochange(self):\n",
    "        return np.array_equal(self.means,self.previous_means)\n",
    "    \n",
    "    def kmeans(self,data, k=2, centroids=None):\n",
    "        self.data=data\n",
    "        if(centroids==None):\n",
    "            self.initialize_centroids(k,self.data.shape[1])\n",
    "        else:\n",
    "            self.means=centroids\n",
    "        self.assign_closest()\n",
    "        self.update_means()\n",
    "        while(not self.nochange() ):\n",
    "            self.assign_closest()  \n",
    "            self.update_means()\n",
    "            \n",
    "            \n",
    "            \n",
    "            \n",
    "    def  plot_results(self):\n",
    "\n",
    "        colors=self.generate_colors(self.means.shape[0])\n",
    "        plt.figure(figsize=(15,8))\n",
    "        for i,key in zip(range(self.means.shape[0]),colors):\n",
    "\n",
    "            x=self.data[np.where(self.assignments==i)][:,0]\n",
    "            y=self.data[np.where(self.assignments==i)][:,1]\n",
    "            c=colors[i]/255.0\n",
    "            plt.scatter(self.means[i][0],self.means[i][1],c=c.reshape((1,c.shape[0])),marker=\"X\")\n",
    "            plt.scatter(x,y,c=c)\n",
    "            \n",
    "        plt.title('Clustering', fontsize=20)\n",
    "        plt.ylabel('y-axis', fontsize=15)\n",
    "        plt.xlabel('x-axis', fontsize=15)\n",
    "        plt.grid()\n",
    "        plt.show()"
   ]
  },
  {
   "cell_type": "markdown",
   "metadata": {},
   "source": [
    "## 3. Run your algorithm for $k$ = 2, 3, 4 and 5. \n",
    "\n",
    "<div class=\"alert alert-info\">\n",
    "In each case, plot the data using a different symbol for each cluster.\n",
    "</fiv>"
   ]
  },
  {
   "cell_type": "code",
   "execution_count": 97,
   "metadata": {
    "scrolled": false
   },
   "outputs": [
    {
     "data": {
      "image/png": "[encoded data removed]",
      "text/plain": [
       "<Figure size 1080x576 with 1 Axes>"
      ]
     },
     "metadata": {},
     "output_type": "display_data"
    }
   ],
   "source": [
    "cluster=Kmeans()\n",
    "cluster.kmeans(X,k=3)\n",
    "cluster.plot_results()"
   ]
  },
  {
   "cell_type": "code",
   "execution_count": 14,
   "metadata": {},
   "outputs": [],
   "source": [
    "from sklearn.cluster import KMeans\n",
    "def generate_colors(n):\n",
    "    ret = []\n",
    "    r = int(random.random() * 256)\n",
    "    g = int(random.random() * 256)\n",
    "    b = int(random.random() * 256)\n",
    "    step = 256 / n\n",
    "    for i in range(n):\n",
    "        r += step\n",
    "        g += step\n",
    "        b += step\n",
    "        r = int(r) % 256\n",
    "        g = int(g) % 256\n",
    "        b = int(b) % 256\n",
    "        ret.append([r,g,b]) \n",
    "    return np.array(ret)\n",
    "    \n",
    "\n",
    "\n",
    "def  plot_results(means,data,assignements):\n",
    "\n",
    "    colors=generate_colors(means.shape[0])\n",
    "    plt.figure(figsize=(15,8))\n",
    "    for i,key in zip(range(means.shape[0]),colors):\n",
    "\n",
    "        x=data[np.where(assignements==i)][:,0]\n",
    "        y=data[np.where(assignements==i)][:,1]\n",
    "        c=colors[i]/255.0\n",
    "        plt.scatter(means[i][0],means[i][1],c=c.reshape((1,c.shape[0])),marker=\"X\")\n",
    "        plt.scatter(x,y,c=c)\n",
    "            \n",
    "    plt.title('Clustering', fontsize=20)\n",
    "    plt.ylabel('y-axis', fontsize=15)\n",
    "    plt.xlabel('x-axis', fontsize=15)\n",
    "    plt.grid()\n",
    "    plt.show()"
   ]
  },
  {
   "cell_type": "code",
   "execution_count": 85,
   "metadata": {},
   "outputs": [
    {
     "data": {
      "image/png": "[encoded data removed]",
      "text/plain": [
       "<Figure size 1080x576 with 1 Axes>"
      ]
     },
     "metadata": {},
     "output_type": "display_data"
    }
   ],
   "source": [
    "from sklearn.cluster import KMeans\n",
    "kmeans = KMeans(n_clusters=3, random_state=0)\n",
    "kmeans.fit(X)\n",
    "plot_results(kmeans.cluster_centers_,X,kmeans.labels_)\n"
   ]
  },
  {
   "cell_type": "code",
   "execution_count": null,
   "metadata": {},
   "outputs": [],
   "source": []
  },
  {
   "cell_type": "code",
   "execution_count": null,
   "metadata": {},
   "outputs": [],
   "source": []
  }
 ],
 "metadata": {
  "kernelspec": {
   "display_name": "Python 3",
   "language": "python",
   "name": "python3"
  },
  "language_info": {
   "codemirror_mode": {
    "name": "ipython",
    "version": 3
   },
   "file_extension": ".py",
   "mimetype": "text/x-python",
   "name": "python",
   "nbconvert_exporter": "python",
   "pygments_lexer": "ipython3",
   "version": "3.6.5"
  }
 },
 "nbformat": 4,
 "nbformat_minor": 2
}
