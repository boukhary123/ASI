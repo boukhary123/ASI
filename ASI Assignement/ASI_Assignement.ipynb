{
 "cells": [
  {
   "cell_type": "markdown",
   "metadata": {},
   "source": [
    "# ASI Assignemnt\n"
   ]
  },
  {
   "cell_type": "markdown",
   "metadata": {},
   "source": [
    "Name: BOUKHARY Alaa"
   ]
  },
  {
   "cell_type": "markdown",
   "metadata": {},
   "source": [
    "## 1. Importing the Data\n",
    "### Importing the Mnist dataset"
   ]
  },
  {
   "cell_type": "code",
   "execution_count": 15,
   "metadata": {},
   "outputs": [
    {
     "data": {
      "text/html": [
       "<div>\n",
       "<style scoped>\n",
       "    .dataframe tbody tr th:only-of-type {\n",
       "        vertical-align: middle;\n",
       "    }\n",
       "\n",
       "    .dataframe tbody tr th {\n",
       "        vertical-align: top;\n",
       "    }\n",
       "\n",
       "    .dataframe thead th {\n",
       "        text-align: right;\n",
       "    }\n",
       "</style>\n",
       "<table border=\"1\" class=\"dataframe\">\n",
       "  <thead>\n",
       "    <tr style=\"text-align: right;\">\n",
       "      <th></th>\n",
       "      <th>label</th>\n",
       "      <th>pixel1</th>\n",
       "      <th>pixel2</th>\n",
       "      <th>pixel3</th>\n",
       "      <th>pixel4</th>\n",
       "      <th>pixel5</th>\n",
       "      <th>pixel6</th>\n",
       "      <th>pixel7</th>\n",
       "      <th>pixel8</th>\n",
       "      <th>pixel9</th>\n",
       "      <th>...</th>\n",
       "      <th>pixel775</th>\n",
       "      <th>pixel776</th>\n",
       "      <th>pixel777</th>\n",
       "      <th>pixel778</th>\n",
       "      <th>pixel779</th>\n",
       "      <th>pixel780</th>\n",
       "      <th>pixel781</th>\n",
       "      <th>pixel782</th>\n",
       "      <th>pixel783</th>\n",
       "      <th>pixel784</th>\n",
       "    </tr>\n",
       "  </thead>\n",
       "  <tbody>\n",
       "    <tr>\n",
       "      <th>0</th>\n",
       "      <td>0</td>\n",
       "      <td>0</td>\n",
       "      <td>0</td>\n",
       "      <td>0</td>\n",
       "      <td>0</td>\n",
       "      <td>0</td>\n",
       "      <td>0</td>\n",
       "      <td>0</td>\n",
       "      <td>9</td>\n",
       "      <td>8</td>\n",
       "      <td>...</td>\n",
       "      <td>103</td>\n",
       "      <td>87</td>\n",
       "      <td>56</td>\n",
       "      <td>0</td>\n",
       "      <td>0</td>\n",
       "      <td>0</td>\n",
       "      <td>0</td>\n",
       "      <td>0</td>\n",
       "      <td>0</td>\n",
       "      <td>0</td>\n",
       "    </tr>\n",
       "    <tr>\n",
       "      <th>1</th>\n",
       "      <td>1</td>\n",
       "      <td>0</td>\n",
       "      <td>0</td>\n",
       "      <td>0</td>\n",
       "      <td>0</td>\n",
       "      <td>0</td>\n",
       "      <td>0</td>\n",
       "      <td>0</td>\n",
       "      <td>0</td>\n",
       "      <td>0</td>\n",
       "      <td>...</td>\n",
       "      <td>34</td>\n",
       "      <td>0</td>\n",
       "      <td>0</td>\n",
       "      <td>0</td>\n",
       "      <td>0</td>\n",
       "      <td>0</td>\n",
       "      <td>0</td>\n",
       "      <td>0</td>\n",
       "      <td>0</td>\n",
       "      <td>0</td>\n",
       "    </tr>\n",
       "    <tr>\n",
       "      <th>2</th>\n",
       "      <td>2</td>\n",
       "      <td>0</td>\n",
       "      <td>0</td>\n",
       "      <td>0</td>\n",
       "      <td>0</td>\n",
       "      <td>0</td>\n",
       "      <td>0</td>\n",
       "      <td>14</td>\n",
       "      <td>53</td>\n",
       "      <td>99</td>\n",
       "      <td>...</td>\n",
       "      <td>0</td>\n",
       "      <td>0</td>\n",
       "      <td>0</td>\n",
       "      <td>0</td>\n",
       "      <td>63</td>\n",
       "      <td>53</td>\n",
       "      <td>31</td>\n",
       "      <td>0</td>\n",
       "      <td>0</td>\n",
       "      <td>0</td>\n",
       "    </tr>\n",
       "    <tr>\n",
       "      <th>3</th>\n",
       "      <td>2</td>\n",
       "      <td>0</td>\n",
       "      <td>0</td>\n",
       "      <td>0</td>\n",
       "      <td>0</td>\n",
       "      <td>0</td>\n",
       "      <td>0</td>\n",
       "      <td>0</td>\n",
       "      <td>0</td>\n",
       "      <td>0</td>\n",
       "      <td>...</td>\n",
       "      <td>137</td>\n",
       "      <td>126</td>\n",
       "      <td>140</td>\n",
       "      <td>0</td>\n",
       "      <td>133</td>\n",
       "      <td>224</td>\n",
       "      <td>222</td>\n",
       "      <td>56</td>\n",
       "      <td>0</td>\n",
       "      <td>0</td>\n",
       "    </tr>\n",
       "    <tr>\n",
       "      <th>4</th>\n",
       "      <td>3</td>\n",
       "      <td>0</td>\n",
       "      <td>0</td>\n",
       "      <td>0</td>\n",
       "      <td>0</td>\n",
       "      <td>0</td>\n",
       "      <td>0</td>\n",
       "      <td>0</td>\n",
       "      <td>0</td>\n",
       "      <td>0</td>\n",
       "      <td>...</td>\n",
       "      <td>0</td>\n",
       "      <td>0</td>\n",
       "      <td>0</td>\n",
       "      <td>0</td>\n",
       "      <td>0</td>\n",
       "      <td>0</td>\n",
       "      <td>0</td>\n",
       "      <td>0</td>\n",
       "      <td>0</td>\n",
       "      <td>0</td>\n",
       "    </tr>\n",
       "  </tbody>\n",
       "</table>\n",
       "<p>5 rows × 785 columns</p>\n",
       "</div>"
      ],
      "text/plain": [
       "   label  pixel1  pixel2  pixel3  pixel4  pixel5  pixel6  pixel7  pixel8  \\\n",
       "0      0       0       0       0       0       0       0       0       9   \n",
       "1      1       0       0       0       0       0       0       0       0   \n",
       "2      2       0       0       0       0       0       0      14      53   \n",
       "3      2       0       0       0       0       0       0       0       0   \n",
       "4      3       0       0       0       0       0       0       0       0   \n",
       "\n",
       "   pixel9    ...     pixel775  pixel776  pixel777  pixel778  pixel779  \\\n",
       "0       8    ...          103        87        56         0         0   \n",
       "1       0    ...           34         0         0         0         0   \n",
       "2      99    ...            0         0         0         0        63   \n",
       "3       0    ...          137       126       140         0       133   \n",
       "4       0    ...            0         0         0         0         0   \n",
       "\n",
       "   pixel780  pixel781  pixel782  pixel783  pixel784  \n",
       "0         0         0         0         0         0  \n",
       "1         0         0         0         0         0  \n",
       "2        53        31         0         0         0  \n",
       "3       224       222        56         0         0  \n",
       "4         0         0         0         0         0  \n",
       "\n",
       "[5 rows x 785 columns]"
      ]
     },
     "execution_count": 15,
     "metadata": {},
     "output_type": "execute_result"
    }
   ],
   "source": [
    "import numpy as np\n",
    "import pandas as pd\n",
    "import matplotlib.pyplot as plt\n",
    "%matplotlib inline\n",
    "#importing the Mnist data-set\n",
    "Mnist=pd.read_csv('fashion-mnist_test.csv')\n",
    "Mnist.head()\n"
   ]
  },
  {
   "cell_type": "code",
   "execution_count": 16,
   "metadata": {},
   "outputs": [
    {
     "data": {
      "text/plain": [
       "(10000, 784)"
      ]
     },
     "execution_count": 16,
     "metadata": {},
     "output_type": "execute_result"
    }
   ],
   "source": [
    "Mnist.columns\n",
    "Mnist.drop(columns=Mnist.columns[0]).values.shape"
   ]
  },
  {
   "cell_type": "code",
   "execution_count": 17,
   "metadata": {},
   "outputs": [
    {
     "data": {
      "image/png": "[encoded data removed]",
      "text/plain": [
       "<Figure size 432x288 with 10 Axes>"
      ]
     },
     "metadata": {},
     "output_type": "display_data"
    }
   ],
   "source": [
    "\n",
    "images=Mnist.drop(columns=Mnist.columns[0]).values\n",
    "ROW = 2\n",
    "COLUMN = 5\n",
    "for i in range(ROW * COLUMN):\n",
    "    \n",
    "    image = np.array(images[i]).reshape(28, 28)   \n",
    "    plt.subplot(ROW, COLUMN, i+1)          \n",
    "    plt.imshow(image, cmap='gray')  \n",
    "plt.axis('off')  \n",
    "plt.tight_layout()  \n",
    "plt.show()"
   ]
  },
  {
   "cell_type": "markdown",
   "metadata": {},
   "source": [
    "### Importing the Cifar dataset"
   ]
  },
  {
   "cell_type": "code",
   "execution_count": 18,
   "metadata": {},
   "outputs": [],
   "source": [
    "import os\n",
    "import random\n",
    "path='./cifar-10-batches-py/'\n",
    "\n",
    "def unpickle(file):\n",
    "    import pickle\n",
    "    with open(file, 'rb') as fo:\n",
    "        dict = pickle.load(fo, encoding='bytes')\n",
    "    return dict\n",
    "\n",
    "def get_data(file):\n",
    "    absFile = os.path.abspath(path+file)\n",
    "    dict = unpickle(absFile)\n",
    "    X = np.asarray(dict[b'data'].T).astype(\"uint8\")\n",
    "    Yraw = np.asarray(dict[b'labels'])\n",
    "    Y = np.zeros((10,10000))\n",
    "    for i in range(10000):\n",
    "        Y[Yraw[i],i] = 1\n",
    "    names = np.asarray(dict[b'filenames'])\n",
    "    return X.T,Y.T,names\n",
    "\n",
    "def visualize_image(X,Y,names,id):\n",
    "    rgb = X[id,:]\n",
    "\n",
    "    img = rgb.reshape(3,32,32).transpose([1, 2, 0])\n",
    "\n",
    "    plt.imshow(img)\n",
    "    plt.title(names[id])\n"
   ]
  },
  {
   "cell_type": "code",
   "execution_count": 19,
   "metadata": {},
   "outputs": [
    {
     "data": {
      "image/png": "[encoded data removed]",
      "text/plain": [
       "<Figure size 432x288 with 1 Axes>"
      ]
     },
     "metadata": {},
     "output_type": "display_data"
    }
   ],
   "source": [
    "X=[]\n",
    "Y=[]\n",
    "names=[]\n",
    "for i in range(1,6,1):\n",
    "    X_temp,Y_temp,names_temp = get_data('data_batch_'+str(i))\n",
    "    X_temp.shape\n",
    "    X.extend(X_temp)\n",
    "    Y.extend(Y_temp)\n",
    "    names.extend(names_temp)\n",
    "X=np.array(X)    \n",
    "Y=Y=np.array(Y)\n",
    "visualize_image(X,Y,names,random.randint(1,10000))"
   ]
  },
  {
   "cell_type": "code",
   "execution_count": 20,
   "metadata": {},
   "outputs": [
    {
     "name": "stdout",
     "output_type": "stream",
     "text": [
      "The shape of the image array is: (50000, 3072)\n",
      "The shape of the labels array is: (50000, 10)\n"
     ]
    }
   ],
   "source": [
    "print(\"The shape of the image array is:\",X.shape)\n",
    "print(\"The shape of the labels array is:\",Y.shape)"
   ]
  },
  {
   "cell_type": "markdown",
   "metadata": {},
   "source": [
    "## 2. Distribution of our data"
   ]
  },
  {
   "cell_type": "markdown",
   "metadata": {},
   "source": [
    "### Mnist dataset"
   ]
  },
  {
   "cell_type": "code",
   "execution_count": 7,
   "metadata": {},
   "outputs": [
    {
     "data": {
      "text/plain": [
       "label\n",
       "0    1000\n",
       "1    1000\n",
       "2    1000\n",
       "3    1000\n",
       "4    1000\n",
       "5    1000\n",
       "6    1000\n",
       "7    1000\n",
       "8    1000\n",
       "9    1000\n",
       "Name: pixel1, dtype: int64"
      ]
     },
     "execution_count": 7,
     "metadata": {},
     "output_type": "execute_result"
    }
   ],
   "source": [
    "#for label in Mnist.columns[0]:\n",
    "Mnist.groupby('label').count()['pixel1']"
   ]
  },
  {
   "cell_type": "markdown",
   "metadata": {},
   "source": [
    "### Cifar dataset"
   ]
  },
  {
   "cell_type": "code",
   "execution_count": 8,
   "metadata": {},
   "outputs": [
    {
     "data": {
      "text/plain": [
       "array([5000., 5000., 5000., 5000., 5000., 5000., 5000., 5000., 5000.,\n",
       "       5000.])"
      ]
     },
     "execution_count": 8,
     "metadata": {},
     "output_type": "execute_result"
    }
   ],
   "source": [
    "\n",
    "def study_distribution(y):\n",
    "    distributions=np.zeros(y.shape[1])\n",
    "    for element in y:\n",
    "        for i in range(y.shape[1]):\n",
    "            if(element[i]==1):\n",
    "                distributions[i]+=1\n",
    "    return distributions\n",
    "study_distribution(Y)\n",
    "                "
   ]
  },
  {
   "cell_type": "markdown",
   "metadata": {},
   "source": [
    "### Answer"
   ]
  },
  {
   "cell_type": "markdown",
   "metadata": {},
   "source": [
    "* we can see that the 2 datasets are highly balanced in fact the first one i.e. Mnist dataset is identically distributed between classes, while the second one is also highly balanced but not identically distributed which may result in a good accuracy for our predictions as imbalanced datasets is a huge problem in most training sets and most people try to balance them by using techniques such as oversampling the minority class or undersampling the majority calss.\n",
    "* In the both datasets we have images as input data and eventhough they are low quality they still have many features (the value of each pixel) and as many classifiers have the assumption that features are independent variables having a high number of variables as input will increase the probability that this assumption is wrong as corrolation will appear between between these dimensions."
   ]
  },
  {
   "cell_type": "markdown",
   "metadata": {},
   "source": [
    "# 3. Classification\n",
    "## a. Implementation of Naive Bayes Classifier"
   ]
  },
  {
   "cell_type": "markdown",
   "metadata": {},
   "source": [
    "#### Algorithm:\n",
    "* **Fitting on the training data:** this process invloves calculating the means and variances of each feature for using them later, and we calculate also in this step the priors for each class which is equal to the number of occurances of each class over the total occurances of all classes.\n",
    "* **prediction:** In this step we calculate the log probabilty densities for each image to avoid numerical instabilities and we don't calculate the denomenator.\n"
   ]
  },
  {
   "cell_type": "code",
   "execution_count": 231,
   "metadata": {},
   "outputs": [],
   "source": [
    "import scipy.stats\n",
    "import collections\n",
    "from scipy.stats import multivariate_normal\n",
    "\n",
    "\n",
    "class ModifiedMultivariateNormal():\n",
    "    def __init__(self,mean,std):\n",
    "        # add a small epsiolon to standard deviations to remove standard deviations that are zero\n",
    "        epsilon =  1e-9*std.max()\n",
    "        std[:]=std[:]+epsilon\n",
    "        self.std=std\n",
    "        self.mean=mean\n",
    "        \n",
    "    def log_operations(self):\n",
    "        feature=self.features\n",
    "        mean=self.mean\n",
    "        variance=self.std\n",
    "        return np.sum(-np.divide(np.power((feature-mean),2),(2*variance))-np.log(np.sqrt(2*math.pi*variance)),axis=1)\n",
    "    \n",
    "    def calculate_pdf(self,x):\n",
    "        self.features=x\n",
    "        # claculate the log pdfs of the normal distributions to avoid numerical instabilities\n",
    "        self.pdfs=self.log_operations()\n",
    "        \n",
    "    def get_pdf(self,index):\n",
    "        return self.pdfs[index]\n",
    "        \n",
    "class NaiveBayes:\n",
    "    def __init__(self):\n",
    "        # initialise the Naive Bayes object\n",
    "        self.features=[]\n",
    "        self.labels=[]\n",
    "        self.priors={}\n",
    "        self.likelihoods={}\n",
    "        self.results=[]\n",
    "        self.test=[]\n",
    "    def fit(self,X,Y):\n",
    "        \n",
    "        self.features=X\n",
    "        self.labels=Y\n",
    "        total_number=self.labels.shape[1]\n",
    "        # calculating priors for each class\n",
    "        for cls in range(self.labels.shape[1]):\n",
    "            occurances=np.where(self.labels[:,cls]==1)\n",
    "            self.priors[cls]=len(occurances)/total_number                \n",
    "        # calculating the liklihood distributions for each class to be used later in predicting by inputting the feature values        \n",
    "        for cls in range(self.labels.shape[1]):\n",
    "            indexes=np.where(self.labels[:,cls]==1)\n",
    "            mean=np.mean(self.features[indexes],axis=0)\n",
    "            std=np.var(self.features[indexes],axis=0)\n",
    "            self.likelihoods[cls]=ModifiedMultivariateNormal(mean,std)\n",
    "                    \n",
    "                    \n",
    "    def predict(self,X):\n",
    "        self.test=X\n",
    "        self.results=np.zeros((self.test.shape[0],self.labels.shape[1]))\n",
    "        for cls in range(self.labels.shape[1]):\n",
    "            self.likelihoods[cls].calculate_pdf(self.test)\n",
    "            \n",
    "        for row in range(self.test.shape[0]):   \n",
    "            for cls in range(self.labels.shape[1]):\n",
    "                numerator=np.log(self.priors[cls])+self.likelihoods[cls].get_pdf(row)   \n",
    "                self.results[row][cls]=numerator\n",
    "        return self.results\n",
    "    \n",
    "    def classify(self):\n",
    "        results=np.zeros((self.results.shape[0],self.results.shape[1]))\n",
    "        # choose the class that has the highest posterior and set the rest classes to zero   \n",
    "        for row in range(self.test.shape[0]):\n",
    "            max_index=np.argmax(self.results[row,:]) \n",
    "            # if 2 classes have same posterior choose the 1st one\n",
    "            if np.array(max_index).size==1:\n",
    "                results[row][max_index]=1\n",
    "            else: \n",
    "                results[row][max_index[0]]=1\n",
    "        return results            "
   ]
  },
  {
   "cell_type": "markdown",
   "metadata": {},
   "source": [
    "### b. Advantages and disadvantages"
   ]
  },
  {
   "cell_type": "markdown",
   "metadata": {},
   "source": [
    "* **Disadvantage:** Naive Bayes classifier makes a huge assumption on the shape of the features that we have. For example I used in my implementation of Naive Bayes gaussian distribution for the features (pixels) and the algorithm assumes that the features are completely independent from each other which can't be true in this case i.e. when having images as input data since neighboring pixels for sure have are related which can affect the result.\n",
    "\n",
    "* **Advantage:** While Naive Bayes has the huge disadvantage stated above it has a huge advantage on the other hand and that it's simple and fast due to it not being an iterative algorithm which is a main problem for powerful classifiers like deep networks where it will take hours for these classifiers to produce decent classifications while this classifier will produce a much faster result. The reason for it being fast is that all of its compuations invloves multiplcations and additions and it doesn't depend on iterative procedures where it needs to converge. "
   ]
  },
  {
   "cell_type": "markdown",
   "metadata": {},
   "source": [
    "### C.  Data Pre-processing "
   ]
  },
  {
   "cell_type": "markdown",
   "metadata": {},
   "source": [
    "Using the image datasets as is without preprocessing or preperation may result in weeker results so it is better to some work before training. One of the preprocessing techniques we can use:\n",
    "* **Normalizing images**: our input images have pixel values in the range of [0-255] so it would result in some numerical instabilities, then it would be better if we can make them in the range of [0-1] and this can be done simply by subtrating the pixel values from the mean and deviding by stadard deviation so the distribution of the pixels will resemble a normal distribution with zero mean and 1 as standard deviaition.\n",
    "* **Dimensionality reduction**: we may choose to callapse the rgb channels to a single gray-scale channel.\n",
    "* **Data augmentation**: we may decide that we don't have enough data that can produce good results so we choose to artificially increase the amount of our data by doing creating new data from our existing data by doing simple tricks such as flipping (horizontal and vertical and both),rotation (90,180,270), scaling up and down.\n"
   ]
  },
  {
   "cell_type": "markdown",
   "metadata": {},
   "source": [
    "###  Applying the Classifier to our data (parts d and e)"
   ]
  },
  {
   "cell_type": "code",
   "execution_count": 267,
   "metadata": {},
   "outputs": [],
   "source": [
    "import math\n",
    "def accuracy_score(y_test,y_pred):\n",
    "    assert (y_test.shape[0]==y_pred.shape[0] and y_test.shape[1]==y_pred.shape[1])\n",
    "    y_test_non_category = [ np.argmax(t) for t in y_test ]\n",
    "    y_predict_non_category = [ np.argmax(t) for t in y_pred]\n",
    "    score=0 \n",
    "    for i in range(y_test.shape[0]):            \n",
    "        if y_test_non_category[i]==y_predict_non_category[i]:\n",
    "            score=score+1\n",
    "    return (score/y_test.shape[0])  \n",
    "    \n",
    "def log_loss(y_true,y_proba,epsilon=1e-15):\n",
    "    y_test_non_category = [np.argmax(t) for t in y_test]\n",
    "    log_loss=0\n",
    "    for i in range(y_proba.shape[0]):\n",
    "        if(y_proba[i][y_test_non_category[i]]<epsilon):\n",
    "            \n",
    "            log_loss-=math.log(epsilon)\n",
    "        else:    \n",
    "            log_loss-=math.log(y_proba[i][y_test_non_category[i]])\n",
    "            #log_loss+=y_proba[i][y_test_non_category[i]]\n",
    "    return log_loss/y_proba.shape[0]    \n",
    "\n",
    "def confusion_matrix(y_true,y_pred):\n",
    "    assert (y_test.shape[0]==y_pred.shape[0] and y_test.shape[1]==y_pred.shape[1])\n",
    "    y_test_non_category = [np.argmax(t) for t in y_test]\n",
    "    y_predict_non_category = [np.argmax(t) for t in y_pred]\n",
    "    matrix=np.zeros((y_test.shape[1],y_test.shape[1]),dtype=np.int)\n",
    "    for i in range(len(y_test_non_category)):\n",
    "        matrix[y_test_non_category[i]][y_predict_non_category[i]]+=1\n",
    "    return matrix "
   ]
  },
  {
   "cell_type": "markdown",
   "metadata": {},
   "source": [
    "#### MNIST Dataset"
   ]
  },
  {
   "cell_type": "code",
   "execution_count": 237,
   "metadata": {},
   "outputs": [
    {
     "name": "stderr",
     "output_type": "stream",
     "text": [
      "C:\\Users\\Alaa Boukhary\\Anaconda3\\envs\\tf15\\lib\\site-packages\\sklearn\\utils\\validation.py:475: DataConversionWarning: Data with input dtype int64 was converted to float64 by MinMaxScaler.\n",
      "  warnings.warn(msg, DataConversionWarning)\n"
     ]
    },
    {
     "name": "stdout",
     "output_type": "stream",
     "text": [
      "the logg-likelihood loss of the Naive Bayes classifier is : 938.7070614582198\n",
      "The accuracy of the naive bayes classifier is : 0.5696\n",
      "the confusion matrix of the mnist dataset is:\n",
      " [[131  13   9  58  34   0   2   0  14   0]\n",
      " [  0 236   1   4   1   0   2   0   0   0]\n",
      " [  0  10  64  24 124   0   2   0   4   0]\n",
      " [  1 101   1 139   7   0   2   0   0   0]\n",
      " [  0  20   9  45 184   0   0   0   1   0]\n",
      " [  0   0   0   1   0  51   1 157   3  10]\n",
      " [ 19  20  20  67 104   0   6   0  11   0]\n",
      " [  0   0   0   0   0   2   0 272   0   7]\n",
      " [  0   1   4  21  32   1   5   0 186   0]\n",
      " [  0   0   0   1   0   5   3  88   4 155]]\n"
     ]
    }
   ],
   "source": [
    "from sklearn.model_selection import train_test_split\n",
    "from sklearn import preprocessing\n",
    "\n",
    "minmax=preprocessing.MinMaxScaler()\n",
    "features=minmax.fit_transform(Mnist.drop(columns='label').values)\n",
    "\n",
    "#features=Mnist.drop(columns='label').values\n",
    "labels=pd.get_dummies(Mnist['label']).values\n",
    "\n",
    "X_train, X_test, y_train, y_test = train_test_split(features,labels, test_size=0.25)\n",
    "Naive=NaiveBayes()\n",
    "Naive.fit(X_train,y_train)       \n",
    "probabilities=Naive.predict(X_test)\n",
    "predictions= Naive.classify()\n",
    "\n",
    "print(\"the log-likelihood loss of the Naive Bayes classifier is :\",log_loss(y_test, probabilities))\n",
    "print(\"The accuracy of the naive bayes classifier is :\",accuracy_score(y_test, predictions))\n",
    "print(\"the confusion matrix of the mnist dataset is:\\n\",confusion_matrix(y_test , predictions))"
   ]
  },
  {
   "cell_type": "markdown",
   "metadata": {},
   "source": [
    "#### Cifar Dataset"
   ]
  },
  {
   "cell_type": "code",
   "execution_count": 238,
   "metadata": {},
   "outputs": [
    {
     "name": "stderr",
     "output_type": "stream",
     "text": [
      "C:\\Users\\Alaa Boukhary\\Anaconda3\\envs\\tf15\\lib\\site-packages\\sklearn\\utils\\validation.py:475: DataConversionWarning: Data with input dtype uint8 was converted to float64 by MinMaxScaler.\n",
      "  warnings.warn(msg, DataConversionWarning)\n"
     ]
    },
    {
     "name": "stdout",
     "output_type": "stream",
     "text": [
      "the logg-likelihood loss of the Naive Bayes classifier is : 368.12081964204566\n",
      "The accuracy of the naive bayes classifier is : 0.28928\n",
      "the confusion matrix of the mnist dataset is:\n",
      " [[568  44  44  18 110  49  71  17 268  81]\n",
      " [174 205  23  50 100 103 235  23 148 232]\n",
      " [257  30  89  23 374  43 257  26  59  48]\n",
      " [175  40  73 103 174 195 301  21  48  85]\n",
      " [123   9  69  39 532  50 312  22  61  47]\n",
      " [166  34  79  47 226 347 231  49  46  48]\n",
      " [120  12  56  22 315  62 575  22  27  45]\n",
      " [151  25  54  58 318 102 132 156  73 148]\n",
      " [241  53  18  20  63 111  63  11 556 107]\n",
      " [176 105  18  23  76  38 119  20 203 485]]\n"
     ]
    }
   ],
   "source": [
    "minmax=preprocessing.MinMaxScaler()\n",
    "features=minmax.fit_transform(X)\n",
    "#features=preprocessing.scale(X)\n",
    "labels=Y\n",
    "\n",
    "X_train, X_test, y_train, y_test = train_test_split(features,labels, test_size=0.25)\n",
    "Naive=NaiveBayes()\n",
    "Naive.fit(X_train,y_train)       \n",
    "probabilities=Naive.predict(X_test)\n",
    "predictions= Naive.classify()\n",
    "\n",
    "print(\"the log-likelihood loss of the Naive Bayes classifier is :\",log_loss(y_test, probabilities))\n",
    "print(\"The accuracy of the naive bayes classifier is :\",accuracy_score(y_test, predictions))\n",
    "print(\"the confusion matrix of the cifar dataset is:\\n\",confusion_matrix(y_test , predictions))"
   ]
  },
  {
   "cell_type": "markdown",
   "metadata": {},
   "source": [
    "### f. Performance of the Classifier"
   ]
  },
  {
   "cell_type": "markdown",
   "metadata": {},
   "source": [
    "The algorithm didn't perform well in general where it was slighly better than average in the first case and was completetly off with 0.28 accuracy in the second case.\n"
   ]
  },
  {
   "cell_type": "markdown",
   "metadata": {},
   "source": [
    "Now Let's observe the performance of a random classifier and see if it performs better than this classifier:"
   ]
  },
  {
   "cell_type": "code",
   "execution_count": 270,
   "metadata": {},
   "outputs": [
    {
     "name": "stderr",
     "output_type": "stream",
     "text": [
      "C:\\Users\\Alaa Boukhary\\Anaconda3\\envs\\tf15\\lib\\site-packages\\sklearn\\utils\\validation.py:475: DataConversionWarning: Data with input dtype int64 was converted to float64 by MinMaxScaler.\n",
      "  warnings.warn(msg, DataConversionWarning)\n"
     ]
    },
    {
     "name": "stdout",
     "output_type": "stream",
     "text": [
      "the logg-likelihood loss of the Naive Bayes classifier is : 1.0424196874498064\n",
      "The accuracy of the naive bayes classifier is : 0.1024\n",
      "the confusion matrix of the mnist dataset is:\n",
      " [[22 26 16 26 26 23 28 29 21 21]\n",
      " [32 24 20 22 14 19 29 24 27 25]\n",
      " [24 25 28 22 25 12 26 24 25 29]\n",
      " [27 26 28 22 26 25 33 28 21 26]\n",
      " [22 30 20 27 25 28 22 22 25 27]\n",
      " [25 24 20 20 29 21 22 31 22 27]\n",
      " [34 22 37 23 22 31 27 33 19 22]\n",
      " [23 24 26 24 27 29 27 21 32 29]\n",
      " [25 27 23 19 25 28 21 24 36 26]\n",
      " [22 23 19 18 24 35 27 31 20 30]]\n"
     ]
    }
   ],
   "source": [
    "from sklearn.model_selection import train_test_split\n",
    "from sklearn import preprocessing\n",
    "\n",
    "minmax=preprocessing.MinMaxScaler()\n",
    "features=minmax.fit_transform(Mnist.drop(columns='label').values)\n",
    "\n",
    "#features=Mnist.drop(columns='label').values\n",
    "labels=pd.get_dummies(Mnist['label']).values\n",
    "\n",
    "X_train, X_test, y_train, y_test = train_test_split(features,labels, test_size=0.25)\n",
    "predictions=np.zeros((y_test.shape[0],y_test.shape[1]))      \n",
    "probabilities= np.random.rand(y_test.shape[0],y_test.shape[1])\n",
    "#predictions[np.argmax(t) for t in probabilities]=1\n",
    "indexes=[np.argmax(t) for t in probabilities]\n",
    "predictions[np.arange(y_test.shape[0]),indexes]=1\n",
    "print(\"the log-likelihood loss of the Naive Bayes classifier is :\",log_loss(y_test, probabilities))\n",
    "print(\"The accuracy of the naive bayes classifier is :\",accuracy_score(y_test, predictions))\n",
    "print(\"the confusion matrix of the mnist dataset is:\\n\",confusion_matrix(y_test , predictions))"
   ]
  },
  {
   "cell_type": "code",
   "execution_count": 272,
   "metadata": {},
   "outputs": [
    {
     "name": "stderr",
     "output_type": "stream",
     "text": [
      "C:\\Users\\Alaa Boukhary\\Anaconda3\\envs\\tf15\\lib\\site-packages\\sklearn\\utils\\validation.py:475: DataConversionWarning: Data with input dtype uint8 was converted to float64 by MinMaxScaler.\n",
      "  warnings.warn(msg, DataConversionWarning)\n"
     ]
    },
    {
     "name": "stdout",
     "output_type": "stream",
     "text": [
      "the logg-likelihood loss of the Naive Bayes classifier is : 0.992941593728725\n",
      "The accuracy of the naive bayes classifier is : 0.09944\n",
      "the confusion matrix of the mnist dataset is:\n",
      " [[132 139 136 105 144 130 146 127 125 125]\n",
      " [126 116 121 139 105 141 133 141 121 110]\n",
      " [135 140 129 107 109 105 119 134 121 110]\n",
      " [117 150 128 119 125 146 138 130 140 128]\n",
      " [111 122 147 128  99 122 110 131 124 131]\n",
      " [112 123 127 112 112 135 137 138 126 109]\n",
      " [ 92 136 134 128 107 123 138 119 122 136]\n",
      " [134 130 124 143 103 126 103 132 119 136]\n",
      " [136 124 129 118 129 121 120 113 119 117]\n",
      " [128 122 114 128 114 103 140 130 138 124]]\n"
     ]
    }
   ],
   "source": [
    "minmax=preprocessing.MinMaxScaler()\n",
    "features=minmax.fit_transform(X)\n",
    "labels=Y\n",
    "X_train, X_test, y_train, y_test = train_test_split(features,labels, test_size=0.25)\n",
    "predictions=np.zeros((y_test.shape[0],y_test.shape[1]))      \n",
    "probabilities= np.random.rand(y_test.shape[0],y_test.shape[1])\n",
    "indexes=[np.argmax(t) for t in probabilities]\n",
    "predictions[np.arange(y_test.shape[0]),indexes]=1\n",
    "\n",
    "X_train, X_test, y_train, y_test = train_test_split(features,labels, test_size=0.25)\n",
    "\n",
    "\n",
    "print(\"the log-likelihood loss of the Naive Bayes classifier is :\",log_loss(y_test, probabilities))\n",
    "print(\"The accuracy of the naive bayes classifier is :\",accuracy_score(y_test, predictions))\n",
    "print(\"the confusion matrix of the mnist dataset is:\\n\",confusion_matrix(y_test , predictions))"
   ]
  },
  {
   "cell_type": "markdown",
   "metadata": {},
   "source": [
    "* So although the performance of our classifier is not good on both datasets it is till better than a random classifier that classifies objects at random.\n",
    "* Accuracy is not the only issue with our classifier we have other problems as well mainly the problem of numerical instabilities without some optimizations. First we had to deal with the issue that some features of some classes have equal pixel values so we can't calculate its probablity density function so we added a small epsilon to all variances. The second issue is related to the numerical issues that arise when multiplying small values less than zero with each other which result in the final value becoming zero so we had to calculate the log probabilities (the log of the numerator) instead."
   ]
  },
  {
   "cell_type": "markdown",
   "metadata": {},
   "source": [
    "## 4. Linear regression"
   ]
  },
  {
   "cell_type": "markdown",
   "metadata": {},
   "source": [
    "### a. Implementation of Bayesian linear regression"
   ]
  },
  {
   "cell_type": "code",
   "execution_count": 66,
   "metadata": {},
   "outputs": [],
   "source": [
    "class BayesianRegressor():\n",
    "    def __init__(self):\n",
    "        self.features=[]\n",
    "        self.labels=[]   \n",
    "        \n",
    "    def get_X(self,features):\n",
    "        X=np.ones((features.shape[0],features.shape[1]+1))\n",
    "        X[:,1:]=features\n",
    "        return X \n",
    "       \n",
    "    def get_w_hat(self):\n",
    "    \n",
    "        X= self.get_X(self.features)\n",
    "        w_hat=np.matmul(np.matmul(np.linalg.inv(np.matmul(np.transpose(X),X)),np.transpose(X)),self.labels)\n",
    "        return w_hat\n",
    "\n",
    "\n",
    "    def get_sigma2_hat(self,X, w_hat, t):\n",
    "        sigma2_hat=(1/X.shape[0])*np.dot(np.transpose(t-np.dot(X,w_hat)),(t-np.dot(X,w_hat)))\n",
    "        return sigma2_hat\n",
    "\n",
    "    def fit(self,features,labels):\n",
    "        self.features=features\n",
    "        self.labels=labels\n",
    "        self.w_hat= self.get_w_hat()\n",
    "        X=self.get_X(self.features)\n",
    "        #self.sigma2_hat=self.get_sigma2_hat(X,self.w_hat,self.labels)\n",
    "        #self.cov_w_hat=self.sigma2_hat*np.linalg.inv(np.matmul(np.transpose(X),X))\n",
    "        #self.w_hat_samples=np.random.multivariate_normal(self.w_hat, self.cov_w_hat, 1000)\n",
    "        #self.mean=1/self.sigma2_hat*np.dot(np.dot(self.cov_w_hat,X.T),self.labels)\n",
    "\n",
    "    def predict(self,test):\n",
    "        X_test = self.get_X(test)         \n",
    "        self.result=np.dot(X_test,self.w_hat)\n",
    "        return self.result\n",
    "        \n",
    "        \n",
    "\n",
    "        "
   ]
  },
  {
   "cell_type": "markdown",
   "metadata": {},
   "source": [
    "### Applying the Classifier on the Datasets (parts b,c, and d)"
   ]
  },
  {
   "cell_type": "markdown",
   "metadata": {},
   "source": [
    "Even though the output of the regressor will be continous we can descritize it by rounding the float number first then changing numbers greater than 9 to to 9 and less than 0 to 0 therefore the output of the regressor will be integers between 0 and 9 and finally we can calculate the confusion matrix in the same way as before."
   ]
  },
  {
   "cell_type": "code",
   "execution_count": 67,
   "metadata": {},
   "outputs": [],
   "source": [
    "import matplotlib.pyplot as plt\n",
    "def mse(pred,labels):\n",
    "    return np.mean(np.power((pred-labels),2))\n",
    "\n",
    "def scatter(pred,labels):\n",
    "    plt.figure(figsize=(15,8))\n",
    "    plt.scatter(labels,pred,color='k') \n",
    "    plt.plot(labels,labels,'r')\n",
    "    plt.title('Bayesian Regressor', fontsize=20)\n",
    "    plt.ylabel('predictions', fontsize=15)\n",
    "    plt.xlabel('labels', fontsize=15)\n",
    "    plt.grid()\n",
    "    plt.show()\n",
    "    \n",
    "def discretize(array,nb_classes):\n",
    "    array=np.around(array)\n",
    "    max_=np.arange(nb_classes)[-1]\n",
    "    min_=np.arange(nb_classes)[0]\n",
    "    array[array<min_]=min_ \n",
    "    array[array>max_]=max_\n",
    "    array=array.astype(int)\n",
    "    return array\n",
    "\n",
    "def accuracy_score(y_test,y_pred):\n",
    "    assert (y_test.size==y_pred.size)\n",
    "    y_test_non_category = y_test\n",
    "    y_predict_non_category = y_pred\n",
    "    score=0 \n",
    "    for i in range(y_test.size):            \n",
    "        if y_test_non_category[i]==y_predict_non_category[i]:\n",
    "            score=score+1\n",
    "    return (score/y_test.shape[0])  \n",
    "    \n",
    "\n",
    "def confusion_matrix(y_true,y_pred,nb_classes):\n",
    "    assert (y_test.size==y_pred.size)\n",
    "    y_test_non_category = y_test\n",
    "    y_predict_non_category = y_pred\n",
    "    matrix=np.zeros((nb_classes,nb_classes),dtype=np.int)\n",
    "    for i in range(y_test_non_category.size):\n",
    "        matrix[y_test_non_category[i]][y_predict_non_category[i]]+=1\n",
    "    return matrix    "
   ]
  },
  {
   "cell_type": "markdown",
   "metadata": {},
   "source": [
    "#### Mnist"
   ]
  },
  {
   "cell_type": "code",
   "execution_count": 68,
   "metadata": {},
   "outputs": [
    {
     "name": "stderr",
     "output_type": "stream",
     "text": [
      "C:\\Users\\Alaa Boukhary\\Anaconda3\\envs\\tf15\\lib\\site-packages\\sklearn\\utils\\validation.py:475: DataConversionWarning: Data with input dtype int64 was converted to float64 by MinMaxScaler.\n",
      "  warnings.warn(msg, DataConversionWarning)\n"
     ]
    },
    {
     "data": {
      "image/png": "[encoded data removed]",
      "text/plain": [
       "<Figure size 1080x576 with 1 Axes>"
      ]
     },
     "metadata": {},
     "output_type": "display_data"
    },
    {
     "name": "stdout",
     "output_type": "stream",
     "text": [
      "The mean-sqaured error of the naive bayes regressor is : 2.453581796945067\n",
      "The accuracy of the naive bayes classifier is : 0.3776\n",
      "the confusion matrix of the mnist dataset is:\n",
      " [[ 52  44  60  47  26   7   2   0   2   0]\n",
      " [ 43 160  46   6   3   1   0   0   0   0]\n",
      " [  1  10  73  92  62  11   4   0   0   0]\n",
      " [  0  13  52 104  65  13   1   1   0   0]\n",
      " [  0   1   5  57 116  52  17   1   0   0]\n",
      " [  0   0   0   3  26 101  75  30   8   2]\n",
      " [  3  11  21  53  78  69  24   1   1   0]\n",
      " [  0   0   0   0   0  14  72 112  35   8]\n",
      " [  0   0   1   5   9  21  43  66  63  48]\n",
      " [  1   0   0   0   0   0   9  27  71 139]]\n"
     ]
    }
   ],
   "source": [
    "from sklearn.model_selection import train_test_split\n",
    "from sklearn import preprocessing\n",
    "\n",
    "minmax=preprocessing.MinMaxScaler()\n",
    "features=minmax.fit_transform(Mnist.drop(columns='label').values)\n",
    "\n",
    "labels=Mnist['label'].values\n",
    "X_train, X_test, y_train, y_test = train_test_split(features,labels, test_size=0.25)\n",
    "Bayes=BayesianRegressor()\n",
    "Bayes.fit(X_train,y_train)       \n",
    "predictions=Bayes.predict(X_test)\n",
    "discrete_predictions=discretize(predictions,10)\n",
    "scatter(predictions,y_test)\n",
    "print(\"The mean-sqaured error of the naive bayes regressor is :\",mse(y_test, predictions))\n",
    "print(\"The accuracy of the naive bayes classifier is :\",accuracy_score(y_test, discrete_predictions))\n",
    "print(\"the confusion matrix of the mnist dataset is:\\n\",confusion_matrix(y_test , discrete_predictions,10))"
   ]
  },
  {
   "cell_type": "markdown",
   "metadata": {},
   "source": [
    "#### Cifar Dataset"
   ]
  },
  {
   "cell_type": "code",
   "execution_count": 464,
   "metadata": {},
   "outputs": [
    {
     "name": "stderr",
     "output_type": "stream",
     "text": [
      "C:\\Users\\Alaa Boukhary\\Anaconda3\\envs\\tf15\\lib\\site-packages\\sklearn\\utils\\validation.py:475: DataConversionWarning: Data with input dtype uint8 was converted to float64 by MinMaxScaler.\n",
      "  warnings.warn(msg, DataConversionWarning)\n"
     ]
    },
    {
     "data": {
      "image/png": "[encoded data removed]",
      "text/plain": [
       "<Figure size 1080x576 with 1 Axes>"
      ]
     },
     "metadata": {},
     "output_type": "display_data"
    },
    {
     "name": "stdout",
     "output_type": "stream",
     "text": [
      "The mean-sqaured error of the naive bayes regressor is : 8.35044859644549\n",
      "The accuracy of the naive bayes classifier is : 0.11176\n",
      "the confusion matrix of the Cifar dataset is:\n",
      " [[  5  18  80 293 467 303  96  29   9   2]\n",
      " [  6  17  75 219 385 310 174  51  19  15]\n",
      " [  4   7  50 209 453 326 102  17   7   1]\n",
      " [  2  13  41 206 449 350 125  18   9   4]\n",
      " [  0   9  44 196 493 380 117  24   5   2]\n",
      " [  0   9  52 227 457 329 125  25   8   2]\n",
      " [  4   6  41 147 408 428 181  52   8   5]\n",
      " [  0   4  33 146 351 349 228  85  21   3]\n",
      " [  0   5  24 106 389 486 215  32  12   2]\n",
      " [  0   3  23 107 246 407 291 126  37  19]]\n"
     ]
    }
   ],
   "source": [
    "minmax=preprocessing.MinMaxScaler()\n",
    "features=minmax.fit_transform(X)\n",
    "labels=np.array([np.argmax(t) for t in Y])\n",
    "X_train, X_test, y_train, y_test = train_test_split(features,labels, test_size=0.25)\n",
    "Bayes=BayesianRegressor()\n",
    "Bayes.fit(X_train,y_train)       \n",
    "predictions=Bayes.predict(X_test)\n",
    "discrete_predictions=discretize(predictions,10)\n",
    "scatter(predictions,y_test)\n",
    "print(\"The mean-sqaured error of the naive bayes regressor is :\",mse(y_test, predictions))\n",
    "print(\"The accuracy of the naive bayes classifier is :\",accuracy_score(y_test, discrete_predictions))\n",
    "print(\"the confusion matrix of the Cifar dataset is:\\n\",confusion_matrix(y_test , discrete_predictions,10))"
   ]
  },
  {
   "cell_type": "markdown",
   "metadata": {},
   "source": [
    "### e. Performance of the Regressor"
   ]
  },
  {
   "cell_type": "markdown",
   "metadata": {},
   "source": [
    "* As we saw when we descritized the output of the classifier and calculated its accuracy it gave very worse results compared to the Naive Bayes classifier so apparently using a regressor for classification is not a good idea.\n",
    "* One can argue that the descritization method used is not good and maybe we should use intervals instead for each class, however looking at both plots obtained for datasets we can see that the outputs of each class are hugely overlapping so using other methods for descritization will not make the results any better.\n",
    "* The following table summarizes the accuracies obtained for both classifiers/regressors on both datasets."
   ]
  },
  {
   "cell_type": "markdown",
   "metadata": {},
   "source": [
    "|Accuracy |Naive Bayes Classifier | Naive Linear Regressor |\n",
    "|---------|-----------------------|------------------------|\n",
    "| MNIST   |       0.5696          |          0.3776        |  \n",
    "| CIFAR   |       0.28928         |          0.11176       |\n"
   ]
  },
  {
   "cell_type": "markdown",
   "metadata": {},
   "source": [
    "### f. Limitation of The Classifier "
   ]
  },
  {
   "cell_type": "markdown",
   "metadata": {},
   "source": [
    "* When using linear regression in this problem we supposed that the output is linearly dependent on the pixels' values and that pixels are independent which is not the case as discussed in the previous classifier.\n",
    "* Since the regressor gave the images of different classes overlapping outputs it confirms that the relation between pixels and and class can't be assumed linear.\n"
   ]
  }
 ],
 "metadata": {
  "kernelspec": {
   "display_name": "Python 3",
   "language": "python",
   "name": "python3"
  },
  "language_info": {
   "codemirror_mode": {
    "name": "ipython",
    "version": 3
   },
   "file_extension": ".py",
   "mimetype": "text/x-python",
   "name": "python",
   "nbconvert_exporter": "python",
   "pygments_lexer": "ipython3",
   "version": "3.6.5"
  }
 },
 "nbformat": 4,
 "nbformat_minor": 2
}
